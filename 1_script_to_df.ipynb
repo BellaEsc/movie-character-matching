{
 "cells": [
  {
   "attachments": {},
   "cell_type": "markdown",
   "metadata": {},
   "source": [
    "# Turning Scripts into a Data Set\n",
    "This notebook explains the process of turning our folder of movie scripts, `moviescripts/`, into a data frame that we can use for machine learning. There are a few steps we need to take to get there:\n",
    "\n",
    "1. Import the text files and turn them into strings\n",
    "\n",
    "2. Turn the script string into a dictionary\n",
    "\n",
    "3. Turn the dictionary into a dataframe\n",
    "\n",
    "4. Combine all of the scripts' data frames into one dataframe\n",
    "\n",
    "5. Export final dataframe as a csv\n",
    "\n",
    "## Step 1: Reading the Script\n",
    "\n",
    "We've created a simple function, `read_script()` which takes the script's file name and outputs the text. We'll display this process using one of the scripts, `megamind.txt`.\n"
   ]
  },
  {
   "cell_type": "code",
   "execution_count": 11,
   "metadata": {},
   "outputs": [
    {
     "data": {
      "text/plain": [
       "'MEGAMIND\\n\\n\\n\\nWritten by\\n\\nAlan Schoolcraft & Brent Simons\\n\\n\\n\\n\\nCREDITS SEQUENCE\\n\\nNEWSPAPER HEADLINE MONTAGE:\\n\\nHEADLINES flash before us, displaying their accompanying\\nphotographs.\\n\\n\"UBERMAN - METRO CITY'"
      ]
     },
     "execution_count": 11,
     "metadata": {},
     "output_type": "execute_result"
    }
   ],
   "source": [
    "from scriptfuncts import *\n",
    "\n",
    "megamind = read_script('megamind.txt')\n",
    "megamind[1:200]"
   ]
  },
  {
   "attachments": {},
   "cell_type": "markdown",
   "metadata": {},
   "source": [
    "## Step 2: Turning the Script into a Dictionary\n",
    "The function for step 2 is a little more involved. It uses regular expressions in order to separate the speaker name from their lines and put them into a dictionary.\n",
    "\n",
    "* **Input**: a string containing a full movie script with this format:\n",
    "\n",
    "```\n",
    "    SPEAKER\n",
    "    Hello, my name is speaker\n",
    "\n",
    "    SPEAKER2\n",
    "    Hi, my name is speaker2\n",
    "\n",
    "    SPEAKER\n",
    "    Hi speaker2\n",
    "```\n",
    "* **Output**: a dictionary that looks like this:\n",
    "\n",
    "```\n",
    "    {'SPEAKER': 'Hello, my name is speaker. Hi speaker2', \n",
    "     'SPEAKER2': 'Hi, my name is speaker2.'}\n",
    "```\n"
   ]
  },
  {
   "cell_type": "code",
   "execution_count": 12,
   "metadata": {},
   "outputs": [
    {
     "data": {
      "text/plain": [
       "['Alright, then - clean slate. Do we have the girl?',\n",
       " 'Reporters are a curious lot, and easily manipulated.',\n",
       " \"Alright, let's not keep the lady waiting.\",\n",
       " '(O.S.) Miss Ritchi, we meet again.']"
      ]
     },
     "execution_count": 12,
     "metadata": {},
     "output_type": "execute_result"
    }
   ],
   "source": [
    "script_dict = script_to_dict(megamind)\n",
    "script_dict['MASTER MIND'][1:5]"
   ]
  },
  {
   "attachments": {},
   "cell_type": "markdown",
   "metadata": {},
   "source": [
    "## Step 3: Turning the Dictionary into a Dataframe\n",
    "In order to use the machine learning methods we want, we will have to format the dataframe in a specific way. At the very least, the dataframe should look like this:\n",
    "\n",
    "movie | character_name | lines \n",
    "--- | --- | ---\n",
    "'Megamind' | 'Master Mind' | 'Alright, then - ...' \n",
    "'megamind' | 'Master Mind' | 'Reporters are a curi...'\n",
    "\n",
    "Ultimately, we will also include a `line_num` column in case we want to know where the line is relative to the character's other lines. For machine learning purposes, we will want to filter the dataframe so that only characters with more than 100 lines will be included in the final dataframe. All of these specifications are included in the function `movie_dict_to_df`. \n"
   ]
  },
  {
   "cell_type": "code",
   "execution_count": 13,
   "metadata": {},
   "outputs": [
    {
     "data": {
      "text/html": [
       "<div>\n",
       "<style scoped>\n",
       "    .dataframe tbody tr th:only-of-type {\n",
       "        vertical-align: middle;\n",
       "    }\n",
       "\n",
       "    .dataframe tbody tr th {\n",
       "        vertical-align: top;\n",
       "    }\n",
       "\n",
       "    .dataframe thead th {\n",
       "        text-align: right;\n",
       "    }\n",
       "</style>\n",
       "<table border=\"1\" class=\"dataframe\">\n",
       "  <thead>\n",
       "    <tr style=\"text-align: right;\">\n",
       "      <th></th>\n",
       "      <th>movie</th>\n",
       "      <th>character_name</th>\n",
       "      <th>line_num</th>\n",
       "      <th>line</th>\n",
       "    </tr>\n",
       "  </thead>\n",
       "  <tbody>\n",
       "    <tr>\n",
       "      <th>788</th>\n",
       "      <td>Megamind</td>\n",
       "      <td>Master Mind</td>\n",
       "      <td>0</td>\n",
       "      <td>the real einstein once said, \"god does not pla...</td>\n",
       "    </tr>\n",
       "    <tr>\n",
       "      <th>789</th>\n",
       "      <td>Megamind</td>\n",
       "      <td>Master Mind</td>\n",
       "      <td>1</td>\n",
       "      <td>alright, then - clean slate. do we have the girl?</td>\n",
       "    </tr>\n",
       "    <tr>\n",
       "      <th>790</th>\n",
       "      <td>Megamind</td>\n",
       "      <td>Master Mind</td>\n",
       "      <td>2</td>\n",
       "      <td>reporters are a curious lot, and easily manipu...</td>\n",
       "    </tr>\n",
       "    <tr>\n",
       "      <th>791</th>\n",
       "      <td>Megamind</td>\n",
       "      <td>Master Mind</td>\n",
       "      <td>3</td>\n",
       "      <td>alright, let's not keep the lady waiting.</td>\n",
       "    </tr>\n",
       "    <tr>\n",
       "      <th>792</th>\n",
       "      <td>Megamind</td>\n",
       "      <td>Master Mind</td>\n",
       "      <td>4</td>\n",
       "      <td>miss ritchi, we meet again.</td>\n",
       "    </tr>\n",
       "  </tbody>\n",
       "</table>\n",
       "</div>"
      ],
      "text/plain": [
       "        movie character_name  line_num  \\\n",
       "788  Megamind    Master Mind         0   \n",
       "789  Megamind    Master Mind         1   \n",
       "790  Megamind    Master Mind         2   \n",
       "791  Megamind    Master Mind         3   \n",
       "792  Megamind    Master Mind         4   \n",
       "\n",
       "                                                  line  \n",
       "788  the real einstein once said, \"god does not pla...  \n",
       "789  alright, then - clean slate. do we have the girl?  \n",
       "790  reporters are a curious lot, and easily manipu...  \n",
       "791          alright, let's not keep the lady waiting.  \n",
       "792                        miss ritchi, we meet again.  "
      ]
     },
     "execution_count": 13,
     "metadata": {},
     "output_type": "execute_result"
    }
   ],
   "source": [
    "movie_df = movie_dict_to_df(script_dict, 'megamind')\n",
    "movie_df.head()"
   ]
  },
  {
   "attachments": {},
   "cell_type": "markdown",
   "metadata": {},
   "source": [
    "## Step 4: Combining All Scripts Into One DataFrame\n",
    "Now that we have our functions working properly for one file, we can apply them to all of our movie script files. To do so, we will need to read in all of the files in the `moviescripts` folder, apply each of the above functions to each file, and then combine them into one dataframe. The `movies_to_df` function does just that."
   ]
  },
  {
   "cell_type": "code",
   "execution_count": 14,
   "metadata": {},
   "outputs": [
    {
     "data": {
      "text/html": [
       "<div>\n",
       "<style scoped>\n",
       "    .dataframe tbody tr th:only-of-type {\n",
       "        vertical-align: middle;\n",
       "    }\n",
       "\n",
       "    .dataframe tbody tr th {\n",
       "        vertical-align: top;\n",
       "    }\n",
       "\n",
       "    .dataframe thead th {\n",
       "        text-align: right;\n",
       "    }\n",
       "</style>\n",
       "<table border=\"1\" class=\"dataframe\">\n",
       "  <thead>\n",
       "    <tr style=\"text-align: right;\">\n",
       "      <th></th>\n",
       "      <th>movie</th>\n",
       "      <th>character_name</th>\n",
       "      <th>line_num</th>\n",
       "      <th>line</th>\n",
       "    </tr>\n",
       "  </thead>\n",
       "  <tbody>\n",
       "    <tr>\n",
       "      <th>404</th>\n",
       "      <td>American Psycho</td>\n",
       "      <td>Bateman</td>\n",
       "      <td>0</td>\n",
       "      <td>we're sitting in pastels, this nouvelle north...</td>\n",
       "    </tr>\n",
       "    <tr>\n",
       "      <th>405</th>\n",
       "      <td>American Psycho</td>\n",
       "      <td>Bateman</td>\n",
       "      <td>1</td>\n",
       "      <td>you'll notice that my friends and i all look...</td>\n",
       "    </tr>\n",
       "    <tr>\n",
       "      <th>406</th>\n",
       "      <td>American Psycho</td>\n",
       "      <td>Bateman</td>\n",
       "      <td>2</td>\n",
       "      <td>or can it be worn with a suit?</td>\n",
       "    </tr>\n",
       "    <tr>\n",
       "      <th>407</th>\n",
       "      <td>American Psycho</td>\n",
       "      <td>Bateman</td>\n",
       "      <td>3</td>\n",
       "      <td>with discreet pinstripes you should wear a sub...</td>\n",
       "    </tr>\n",
       "    <tr>\n",
       "      <th>408</th>\n",
       "      <td>American Psycho</td>\n",
       "      <td>Bateman</td>\n",
       "      <td>4</td>\n",
       "      <td>van patten looks puffy. has he stopped working...</td>\n",
       "    </tr>\n",
       "  </tbody>\n",
       "</table>\n",
       "</div>"
      ],
      "text/plain": [
       "               movie character_name  line_num  \\\n",
       "404  American Psycho        Bateman         0   \n",
       "405  American Psycho        Bateman         1   \n",
       "406  American Psycho        Bateman         2   \n",
       "407  American Psycho        Bateman         3   \n",
       "408  American Psycho        Bateman         4   \n",
       "\n",
       "                                                  line  \n",
       "404   we're sitting in pastels, this nouvelle north...  \n",
       "405    you'll notice that my friends and i all look...  \n",
       "406                     or can it be worn with a suit?  \n",
       "407  with discreet pinstripes you should wear a sub...  \n",
       "408  van patten looks puffy. has he stopped working...  "
      ]
     },
     "execution_count": 14,
     "metadata": {},
     "output_type": "execute_result"
    }
   ],
   "source": [
    "movies_df = movies_to_df('moviescripts/')\n",
    "movies_df.head()"
   ]
  },
  {
   "attachments": {},
   "cell_type": "markdown",
   "metadata": {},
   "source": [
    "We can use this to see how many characters in these scripts had more than 100 lines."
   ]
  },
  {
   "cell_type": "code",
   "execution_count": 15,
   "metadata": {},
   "outputs": [
    {
     "data": {
      "text/plain": [
       "array(['Bateman', 'Nick Fury', 'Tony', 'Lloyd', 'Harry', 'Marlin', 'Nemo',\n",
       "       'Dory', 'Double White', 'Harold', 'Kumar', 'Indy', 'Int', 'Will',\n",
       "       'Ext', 'Angle On', 'Close On', 'Sam', 'Frodo', 'Gandalf',\n",
       "       'Master Mind', 'Roxanne', 'Bella', 'Edward'], dtype=object)"
      ]
     },
     "execution_count": 15,
     "metadata": {},
     "output_type": "execute_result"
    }
   ],
   "source": [
    "movies_df['character_name'].unique()"
   ]
  },
  {
   "attachments": {},
   "cell_type": "markdown",
   "metadata": {},
   "source": [
    "Some of these names are a little off, such as 'Ext', 'Angle On', 'Close On', and 'Int'. These are stage directions that were captured as characters, so we will remove them before creating our .csv file."
   ]
  },
  {
   "cell_type": "code",
   "execution_count": 16,
   "metadata": {},
   "outputs": [
    {
     "data": {
      "text/plain": [
       "array(['Bateman', 'Nick Fury', 'Tony', 'Lloyd', 'Harry', 'Marlin', 'Nemo',\n",
       "       'Dory', 'Double White', 'Harold', 'Kumar', 'Indy', 'Will', 'Sam',\n",
       "       'Frodo', 'Gandalf', 'Master Mind', 'Roxanne', 'Bella', 'Edward'],\n",
       "      dtype=object)"
      ]
     },
     "execution_count": 16,
     "metadata": {},
     "output_type": "execute_result"
    }
   ],
   "source": [
    "exclude = ['Ext', 'Angle On', 'Close On', 'Int']\n",
    "movies_df2 = movies_df[~movies_df['character_name'].isin(exclude)].copy(deep=True)\n",
    "movies_df2['character_name'].unique()"
   ]
  },
  {
   "cell_type": "code",
   "execution_count": 22,
   "metadata": {},
   "outputs": [
    {
     "data": {
      "text/plain": [
       "array(['Bateman', 'Lloyd', 'Harry', 'Marlin', 'Dory', 'Harold', 'Kumar',\n",
       "       'Master Mind', 'Bella'], dtype=object)"
      ]
     },
     "execution_count": 22,
     "metadata": {},
     "output_type": "execute_result"
    }
   ],
   "source": [
    "counts = movies_df2['character_name'].value_counts()\n",
    "filtered_df = movies_df2[movies_df2['character_name'].isin(counts[counts > 250].index)]\n",
    "filtered_df['character_name'].unique()"
   ]
  },
  {
   "attachments": {},
   "cell_type": "markdown",
   "metadata": {},
   "source": [
    "## Step 5: Exporting as CSV\n",
    "Now that we have our data set, we can go ahead and export it into our data folder!"
   ]
  },
  {
   "cell_type": "code",
   "execution_count": 23,
   "metadata": {},
   "outputs": [],
   "source": [
    "filtered_df.to_csv('data/moviedata.csv', index=False)"
   ]
  }
 ],
 "metadata": {
  "kernelspec": {
   "display_name": "Python 3",
   "language": "python",
   "name": "python3"
  },
  "language_info": {
   "codemirror_mode": {
    "name": "ipython",
    "version": 3
   },
   "file_extension": ".py",
   "mimetype": "text/x-python",
   "name": "python",
   "nbconvert_exporter": "python",
   "pygments_lexer": "ipython3",
   "version": "3.11.1"
  },
  "orig_nbformat": 4
 },
 "nbformat": 4,
 "nbformat_minor": 2
}
