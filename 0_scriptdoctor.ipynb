{
 "cells": [
  {
   "attachments": {},
   "cell_type": "markdown",
   "metadata": {},
   "source": [
    "# The Script Doctor\n",
    "Some of our scripts are formatted weird so I've made some functions to fix their quirks. we will be performing surgery here."
   ]
  },
  {
   "cell_type": "code",
   "execution_count": 1,
   "metadata": {},
   "outputs": [],
   "source": [
    "from scriptdoctor import *\n",
    "\n",
    "tdk = 'the_dark_knight.txt'\n",
    "\n",
    "tdk_script = read_broken_script(tdk)\n",
    "tdk_script_modified = del_spacing(del_parenthesis(tdk_script))\n",
    "\n",
    "update_script(tdk, tdk_script_modified)"
   ]
  }
 ],
 "metadata": {
  "kernelspec": {
   "display_name": "Python 3",
   "language": "python",
   "name": "python3"
  },
  "language_info": {
   "codemirror_mode": {
    "name": "ipython",
    "version": 3
   },
   "file_extension": ".py",
   "mimetype": "text/x-python",
   "name": "python",
   "nbconvert_exporter": "python",
   "pygments_lexer": "ipython3",
   "version": "3.11.1"
  },
  "orig_nbformat": 4
 },
 "nbformat": 4,
 "nbformat_minor": 2
}
