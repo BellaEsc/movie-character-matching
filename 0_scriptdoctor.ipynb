{
 "cells": [
  {
   "attachments": {},
   "cell_type": "markdown",
   "metadata": {},
   "source": [
    "# The Script Doctor\n",
    "Some of our scripts are formatted weird so I've made some functions to fix their quirks. we will be performing surgery here.\n",
    "\n",
    "## The Dark Knight"
   ]
  },
  {
   "cell_type": "code",
   "execution_count": 1,
   "metadata": {},
   "outputs": [],
   "source": [
    "from scriptdoctor import *\n",
    "\n",
    "tdk = 'the_dark_knight.txt'\n",
    "\n",
    "tdk_script = read_broken_script(tdk)\n",
    "tdk_script_modified = del_spacing(del_parenthesis(tdk_script))\n",
    "\n",
    "update_script(tdk, tdk_script_modified)"
   ]
  },
  {
   "attachments": {},
   "cell_type": "markdown",
   "metadata": {},
   "source": [
    "## Harry Potter and the Chamber of Secrets"
   ]
  },
  {
   "cell_type": "code",
   "execution_count": 4,
   "metadata": {},
   "outputs": [],
   "source": [
    "hp = 'harry_potter_chamber.txt'\n",
    "\n",
    "hp_script = read_broken_script(hp)\n",
    "hp_script_modified = del_spacing(del_parenthesis(hp_script))\n",
    "hp_script_modified2 = replace_name(hp_script_modified, 'harry', 'harry potter')\n",
    "\n",
    "update_script(hp, hp_script_modified2)"
   ]
  },
  {
   "attachments": {},
   "cell_type": "markdown",
   "metadata": {},
   "source": [
    "## Pirates of the Caribbean"
   ]
  },
  {
   "cell_type": "code",
   "execution_count": 5,
   "metadata": {},
   "outputs": [],
   "source": [
    "potc = 'pirates_of_the_caribbean.txt'\n",
    "\n",
    "potc_script = read_broken_script(potc)\n",
    "potc_script_modified = replace_name(potc_script, 'jack', 'jack sparrow')\n",
    "\n",
    "update_script(potc, potc_script_modified)"
   ]
  },
  {
   "attachments": {},
   "cell_type": "markdown",
   "metadata": {},
   "source": [
    "## Megamind"
   ]
  },
  {
   "cell_type": "code",
   "execution_count": 6,
   "metadata": {},
   "outputs": [],
   "source": [
    "mm = 'megamind.txt'\n",
    "\n",
    "mm_script = read_broken_script(mm)\n",
    "mm_script_modified = replace_name(mm_script, 'master mind', 'megamind')\n",
    "\n",
    "update_script(mm, mm_script_modified)"
   ]
  }
 ],
 "metadata": {
  "kernelspec": {
   "display_name": "Python 3",
   "language": "python",
   "name": "python3"
  },
  "language_info": {
   "codemirror_mode": {
    "name": "ipython",
    "version": 3
   },
   "file_extension": ".py",
   "mimetype": "text/x-python",
   "name": "python",
   "nbconvert_exporter": "python",
   "pygments_lexer": "ipython3",
   "version": "3.11.1"
  },
  "orig_nbformat": 4
 },
 "nbformat": 4,
 "nbformat_minor": 2
}
