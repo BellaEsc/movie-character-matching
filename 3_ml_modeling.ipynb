{
 "cells": [
  {
   "attachments": {},
   "cell_type": "markdown",
   "metadata": {},
   "source": [
    "# Machine Learning Modeling\n",
    "For our purposes, we want to try a few different models to see which one works the best with our data. The first one we will try is Support Vector Machines. Before that, though, we'll need to split our data into training and testing."
   ]
  },
  {
   "cell_type": "code",
   "execution_count": 17,
   "metadata": {},
   "outputs": [],
   "source": [
    "import pandas as pd\n",
    "from sklearn.feature_extraction.text import CountVectorizer, TfidfTransformer, TfidfVectorizer\n",
    "from sklearn.model_selection import cross_val_score, KFold, GridSearchCV\n",
    "from sklearn.pipeline import Pipeline\n",
    "from sklearn.model_selection import train_test_split\n",
    "from sklearn.svm import SVC\n",
    "\n",
    "\n",
    "data = pd.read_csv('data/moviedata_tokens.csv')"
   ]
  },
  {
   "cell_type": "code",
   "execution_count": 18,
   "metadata": {},
   "outputs": [
    {
     "data": {
      "text/html": [
       "<div>\n",
       "<style scoped>\n",
       "    .dataframe tbody tr th:only-of-type {\n",
       "        vertical-align: middle;\n",
       "    }\n",
       "\n",
       "    .dataframe tbody tr th {\n",
       "        vertical-align: top;\n",
       "    }\n",
       "\n",
       "    .dataframe thead th {\n",
       "        text-align: right;\n",
       "    }\n",
       "</style>\n",
       "<table border=\"1\" class=\"dataframe\">\n",
       "  <thead>\n",
       "    <tr style=\"text-align: right;\">\n",
       "      <th></th>\n",
       "      <th>movie</th>\n",
       "      <th>character_name</th>\n",
       "      <th>line_num</th>\n",
       "      <th>line</th>\n",
       "      <th>tokens</th>\n",
       "    </tr>\n",
       "  </thead>\n",
       "  <tbody>\n",
       "    <tr>\n",
       "      <th>0</th>\n",
       "      <td>American Psycho</td>\n",
       "      <td>Bateman</td>\n",
       "      <td>0</td>\n",
       "      <td>we're sitting in pastels, this nouvelle north...</td>\n",
       "      <td>['we', \"'re\", 'sitting', 'in', ',', 'this', 'c...</td>\n",
       "    </tr>\n",
       "    <tr>\n",
       "      <th>1</th>\n",
       "      <td>American Psycho</td>\n",
       "      <td>Bateman</td>\n",
       "      <td>1</td>\n",
       "      <td>you'll notice that my friends and i all look...</td>\n",
       "      <td>['you', \"'ll\", 'notice', 'that', 'my', 'friend...</td>\n",
       "    </tr>\n",
       "    <tr>\n",
       "      <th>2</th>\n",
       "      <td>American Psycho</td>\n",
       "      <td>Bateman</td>\n",
       "      <td>2</td>\n",
       "      <td>or can it be worn with a suit?</td>\n",
       "      <td>['or', 'can', 'it', 'be', 'with', 'a', 'suit',...</td>\n",
       "    </tr>\n",
       "    <tr>\n",
       "      <th>3</th>\n",
       "      <td>American Psycho</td>\n",
       "      <td>Bateman</td>\n",
       "      <td>3</td>\n",
       "      <td>with discreet pinstripes you should wear a sub...</td>\n",
       "      <td>['with', 'you', 'should', 'wear', 'a', 'blue',...</td>\n",
       "    </tr>\n",
       "    <tr>\n",
       "      <th>4</th>\n",
       "      <td>American Psycho</td>\n",
       "      <td>Bateman</td>\n",
       "      <td>4</td>\n",
       "      <td>van patten looks puffy. has he stopped working...</td>\n",
       "      <td>['van', 'patten', 'looks', 'puffy', '.', 'has'...</td>\n",
       "    </tr>\n",
       "  </tbody>\n",
       "</table>\n",
       "</div>"
      ],
      "text/plain": [
       "             movie character_name  line_num  \\\n",
       "0  American Psycho        Bateman         0   \n",
       "1  American Psycho        Bateman         1   \n",
       "2  American Psycho        Bateman         2   \n",
       "3  American Psycho        Bateman         3   \n",
       "4  American Psycho        Bateman         4   \n",
       "\n",
       "                                                line  \\\n",
       "0   we're sitting in pastels, this nouvelle north...   \n",
       "1    you'll notice that my friends and i all look...   \n",
       "2                     or can it be worn with a suit?   \n",
       "3  with discreet pinstripes you should wear a sub...   \n",
       "4  van patten looks puffy. has he stopped working...   \n",
       "\n",
       "                                              tokens  \n",
       "0  ['we', \"'re\", 'sitting', 'in', ',', 'this', 'c...  \n",
       "1  ['you', \"'ll\", 'notice', 'that', 'my', 'friend...  \n",
       "2  ['or', 'can', 'it', 'be', 'with', 'a', 'suit',...  \n",
       "3  ['with', 'you', 'should', 'wear', 'a', 'blue',...  \n",
       "4  ['van', 'patten', 'looks', 'puffy', '.', 'has'...  "
      ]
     },
     "execution_count": 18,
     "metadata": {},
     "output_type": "execute_result"
    }
   ],
   "source": [
    "data.head()"
   ]
  },
  {
   "cell_type": "code",
   "execution_count": null,
   "metadata": {},
   "outputs": [],
   "source": [
    "# Splitting data into features (X) and labels (y)\n",
    "'''\n",
    "X = data['tokens']\n",
    "y = data['character_name']\n",
    "\n",
    "# Vectorizing the data\n",
    "vectorizer = CountVectorizer(ngram_range=(1,2))\n",
    "X = vectorizer.fit_transform(X)\n",
    "\n",
    "# Splitting into training and testing\n",
    "X_train, X_test, y_train, y_test = train_test_split(X,y, test_size=0.2, random_state=222)\n",
    "\n",
    "# Creating the SVM model\n",
    "svm = SVC(kernel='linear', C=1.0, random_state=222)\n",
    "\n",
    "# Define cross-validation method and scoring metric\n",
    "cv = KFold(n_splits = 5, shuffle=True, random_state=222)\n",
    "scoring = 'f1_macro'\n",
    "scores = []\n",
    "\n",
    "# Loop over each fold of the cross-validation\n",
    "for train_idx, val_idx in cv.split(X,y):\n",
    "    X_train, y_train = X[train_idx], y[train_idx]\n",
    "    X_val, y_val = \n",
    "\n",
    "'''"
   ]
  },
  {
   "cell_type": "code",
   "execution_count": 19,
   "metadata": {},
   "outputs": [
    {
     "name": "stdout",
     "output_type": "stream",
     "text": [
      "Accuracy: 0.42 (+/- 0.05)\n"
     ]
    }
   ],
   "source": [
    "# Splitting data into training and testing\n",
    "X = data['tokens']\n",
    "y = data['character_name']\n",
    "X_train, X_test, y_train, y_test = train_test_split(X,y, stratify = y, test_size=0.2, random_state=222)\n",
    "\n",
    "# Creating a pipeline\n",
    "pipeline = Pipeline([\n",
    "    ('vect', TfidfVectorizer(ngram_range=(1,2))),\n",
    "    ('tfidf', TfidfTransformer()),\n",
    "    ('clf', SVC(kernel='linear'))\n",
    "])\n",
    "\n",
    "# Creating K-Fold cross-validation model\n",
    "kf = KFold(n_splits=10, shuffle=True, random_state=222)\n",
    "\n",
    "# Compute the cross-validation scores for the pipeline\n",
    "scores = cross_val_score(pipeline, X_train, y_train, cv=kf, n_jobs=-1)\n",
    "\n",
    "print(\"Accuracy: %0.2f (+/- %0.2f)\" % (scores.mean(), scores.std() * 2))\n"
   ]
  },
  {
   "attachments": {},
   "cell_type": "markdown",
   "metadata": {},
   "source": [
    "let's try again without normalizing."
   ]
  },
  {
   "cell_type": "code",
   "execution_count": 7,
   "metadata": {},
   "outputs": [
    {
     "name": "stdout",
     "output_type": "stream",
     "text": [
      "Accuracy: 0.37 (+/- 0.03)\n"
     ]
    }
   ],
   "source": [
    "pipeline2 = Pipeline([\n",
    "    ('vect', TfidfVectorizer(ngram_range=(1,2))),\n",
    "    ('tfidf', TfidfTransformer()),\n",
    "    ('clf', SVC(kernel='linear'))\n",
    "])\n",
    "\n",
    "# Creating K-Fold cross-validation model\n",
    "kf = KFold(n_splits=10, shuffle=True, random_state=222)\n",
    "\n",
    "# Compute the cross-validation scores for the pipeline\n",
    "scores = cross_val_score(pipeline2, X_train, y_train, cv=kf)\n",
    "\n",
    "print(\"Accuracy: %0.2f (+/- %0.2f)\" % (scores.mean(), scores.std() * 2))"
   ]
  },
  {
   "cell_type": "code",
   "execution_count": 21,
   "metadata": {},
   "outputs": [
    {
     "name": "stdout",
     "output_type": "stream",
     "text": [
      "Best parameters:  {'clf__C': 10, 'clf__kernel': 'linear', 'tfidf__max_features': 50000}\n",
      "Best score:  0.42539708741425475\n"
     ]
    }
   ],
   "source": [
    "pipeline3 = Pipeline([\n",
    "    ('tfidf', TfidfVectorizer(ngram_range=(1,2))),\n",
    "    ('vect', TfidfTransformer()),\n",
    "    ('clf', SVC())\n",
    "])\n",
    "\n",
    "# Define parameter grid to search over\n",
    "param_grid = {\n",
    "    'tfidf__max_features': [30000, 40000, 50000],\n",
    "    'clf__C': [1, 10],\n",
    "    'clf__kernel': ['linear']\n",
    "}\n",
    "\n",
    "# Creating K-Fold cross-validation model\n",
    "kf = KFold(n_splits=10, shuffle=True, random_state=222)\n",
    "\n",
    "# Define gGridSearchCV\n",
    "grid_search = GridSearchCV(pipeline3, param_grid, cv=kf, n_jobs=-1)\n",
    "\n",
    "# Fit the GridSearch CV object to the training data\n",
    "grid_search.fit(X_train, y_train)\n",
    "\n",
    "print(\"Best parameters: \", grid_search.best_params_)\n",
    "print(\"Best score: \", grid_search.best_score_)"
   ]
  },
  {
   "cell_type": "code",
   "execution_count": null,
   "metadata": {},
   "outputs": [],
   "source": []
  }
 ],
 "metadata": {
  "kernelspec": {
   "display_name": "Python 3",
   "language": "python",
   "name": "python3"
  },
  "language_info": {
   "codemirror_mode": {
    "name": "ipython",
    "version": 3
   },
   "file_extension": ".py",
   "mimetype": "text/x-python",
   "name": "python",
   "nbconvert_exporter": "python",
   "pygments_lexer": "ipython3",
   "version": "3.11.1"
  },
  "orig_nbformat": 4
 },
 "nbformat": 4,
 "nbformat_minor": 2
}
