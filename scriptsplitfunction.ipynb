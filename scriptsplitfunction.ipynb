{
 "cells": [
  {
   "attachments": {},
   "cell_type": "markdown",
   "metadata": {},
   "source": [
    "# Creating a function to split scripts\n",
    "I want to make a function to split up the scripts into a dictionary with speaker name as the key and all of their lines as a string put together.\n",
    "\n",
    "* **Input**: a string containing a full movie script with this format:\n",
    "\n",
    "```\n",
    "    SPEAKER\n",
    "    Hello, my name is speaker\n",
    "\n",
    "    SPEAKER2\n",
    "    Hi, my name is speaker2\n",
    "\n",
    "    SPEAKER\n",
    "    Hi speaker2\n",
    "```\n",
    "* **Output**: a dictionary that looks like this:\n",
    "\n",
    "```\n",
    "    {'SPEAKER': 'Hello, my name is speaker. Hi speaker2', \n",
    "     'SPEAKER2': 'Hi, my name is speaker2.'}\n",
    "```"
   ]
  },
  {
   "cell_type": "code",
   "execution_count": null,
   "metadata": {},
   "outputs": [],
   "source": [
    "import re\n",
    "import os\n",
    "\n",
    "cdir = os.path.abspath('')\n",
    "script_file = open(os.path.join(cdir, 'megamind.txt'), 'r')\n",
    "script = script_file.read()\n",
    "script_file.close()\n",
    "print(script[0:100] + script[2000:2100]) # making sure it imported right"
   ]
  },
  {
   "cell_type": "code",
   "execution_count": null,
   "metadata": {},
   "outputs": [],
   "source": []
  }
 ],
 "metadata": {
  "language_info": {
   "name": "python"
  },
  "orig_nbformat": 4
 },
 "nbformat": 4,
 "nbformat_minor": 2
}
