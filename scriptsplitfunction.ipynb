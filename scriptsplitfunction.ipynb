{
 "cells": [
  {
   "attachments": {},
   "cell_type": "markdown",
   "metadata": {},
   "source": [
    "# Creating a function to split scripts\n",
    "I want to make a function to split up the scripts into a dictionary with speaker name as the key and all of their lines as a string put together.\n",
    "\n",
    "* **Input**: a string containing a full movie script with this format:\n",
    "\n",
    "```\n",
    "    SPEAKER\n",
    "    Hello, my name is speaker\n",
    "\n",
    "    SPEAKER2\n",
    "    Hi, my name is speaker2\n",
    "\n",
    "    SPEAKER\n",
    "    Hi speaker2\n",
    "```\n",
    "* **Output**: a dictionary that looks like this:\n",
    "\n",
    "```\n",
    "    {'SPEAKER': 'Hello, my name is speaker. Hi speaker2', \n",
    "     'SPEAKER2': 'Hi, my name is speaker2.'}\n",
    "```\n",
    "\n",
    "All of the functions can be found in the `splitfuncts.py` file, each function will be walked through here."
   ]
  },
  {
   "attachments": {},
   "cell_type": "markdown",
   "metadata": {},
   "source": [
    "## Importing the scripts\n",
    "First, I'll make a function to easily import the scripts from the moviescripts folder as a string. We'll use the Megamind script as a sample.\n",
    "The read_script function is simple, it just imports the text file as a string."
   ]
  },
  {
   "cell_type": "code",
   "execution_count": 1,
   "metadata": {},
   "outputs": [
    {
     "data": {
      "text/plain": [
       "'MEGAMIND\\n\\n\\n\\nWritten by\\n\\nAlan Schoolcraft & Brent Simons\\n\\n\\n\\n\\nCREDITS SEQUENCE\\n\\nNEWSPAPER HEADLINE MONTAGE:\\n\\nHEADLINES flash before us, displaying their accompanying\\nphotographs.\\n\\n\"UBERMAN - METRO CITY'"
      ]
     },
     "execution_count": 1,
     "metadata": {},
     "output_type": "execute_result"
    }
   ],
   "source": [
    "import re\n",
    "import os\n",
    "import pandas as pd\n",
    "from splitfuncts import *\n",
    "\n",
    "megamind = read_script('megamind.txt')\n",
    "megamind[1:200]\n"
   ]
  },
  {
   "attachments": {},
   "cell_type": "markdown",
   "metadata": {},
   "source": [
    "## Script-to-dictionary function\n",
    "Now we've covered the importing, we need to actually convert them into a dictionary as outlined above. The script_to_dict function contains the regex used to split up the script by speaking character, which outputs a dictionary with each character as the key and their lines as one string object."
   ]
  },
  {
   "cell_type": "code",
   "execution_count": 2,
   "metadata": {},
   "outputs": [
    {
     "data": {
      "text/plain": [
       "'he real Einstein once said, \"God does not play dice with the world.\" He was right, because the world is MY dice. Is that understood? Alright, then - clean slate. Do we have the girl? Reporters are a '"
      ]
     },
     "execution_count": 2,
     "metadata": {},
     "output_type": "execute_result"
    }
   ],
   "source": [
    "megamind_dict = script_to_dict(megamind)\n",
    "megamind_dict['MASTER MIND'][1:200] # perfect"
   ]
  },
  {
   "attachments": {},
   "cell_type": "markdown",
   "metadata": {},
   "source": [
    "## Generating the rest of the movies\n",
    "Now that we've seen it works on Megamind, let's put the functions all together and try it for everyone else!\n",
    "\n",
    "To do this, I've created a function `movies_to_df()` which takes in the name of the movie folder and outputs the dataframe that we want with the top 7 speakers in each movie!"
   ]
  },
  {
   "cell_type": "code",
   "execution_count": 3,
   "metadata": {},
   "outputs": [
    {
     "data": {
      "text/html": [
       "<div>\n",
       "<style scoped>\n",
       "    .dataframe tbody tr th:only-of-type {\n",
       "        vertical-align: middle;\n",
       "    }\n",
       "\n",
       "    .dataframe tbody tr th {\n",
       "        vertical-align: top;\n",
       "    }\n",
       "\n",
       "    .dataframe thead th {\n",
       "        text-align: right;\n",
       "    }\n",
       "</style>\n",
       "<table border=\"1\" class=\"dataframe\">\n",
       "  <thead>\n",
       "    <tr style=\"text-align: right;\">\n",
       "      <th></th>\n",
       "      <th>movie_name</th>\n",
       "      <th>character_name</th>\n",
       "      <th>lines</th>\n",
       "      <th>lines_len</th>\n",
       "    </tr>\n",
       "  </thead>\n",
       "  <tbody>\n",
       "    <tr>\n",
       "      <th>0</th>\n",
       "      <td>avengers</td>\n",
       "      <td>TONY</td>\n",
       "      <td>You're good on this end. The rest is up to you...</td>\n",
       "      <td>11492</td>\n",
       "    </tr>\n",
       "    <tr>\n",
       "      <th>1</th>\n",
       "      <td>avengers</td>\n",
       "      <td>NICK FURY</td>\n",
       "      <td>How bad is it? NASA didn't authorize Selvig to...</td>\n",
       "      <td>9327</td>\n",
       "    </tr>\n",
       "    <tr>\n",
       "      <th>2</th>\n",
       "      <td>avengers</td>\n",
       "      <td>LOKI</td>\n",
       "      <td>You have heart. Loki points the head of his sp...</td>\n",
       "      <td>6742</td>\n",
       "    </tr>\n",
       "    <tr>\n",
       "      <th>3</th>\n",
       "      <td>avengers</td>\n",
       "      <td>T</td>\n",
       "      <td>his doesn't have to get any messier. he Tesser...</td>\n",
       "      <td>5549</td>\n",
       "    </tr>\n",
       "    <tr>\n",
       "      <th>4</th>\n",
       "      <td>avengers</td>\n",
       "      <td>BANNER</td>\n",
       "      <td>Calm down. What's wrong? Is he like them? The ...</td>\n",
       "      <td>5276</td>\n",
       "    </tr>\n",
       "  </tbody>\n",
       "</table>\n",
       "</div>"
      ],
      "text/plain": [
       "  movie_name character_name  \\\n",
       "0   avengers           TONY   \n",
       "1   avengers      NICK FURY   \n",
       "2   avengers           LOKI   \n",
       "3   avengers              T   \n",
       "4   avengers         BANNER   \n",
       "\n",
       "                                               lines  lines_len  \n",
       "0  You're good on this end. The rest is up to you...      11492  \n",
       "1  How bad is it? NASA didn't authorize Selvig to...       9327  \n",
       "2  You have heart. Loki points the head of his sp...       6742  \n",
       "3  his doesn't have to get any messier. he Tesser...       5549  \n",
       "4  Calm down. What's wrong? Is he like them? The ...       5276  "
      ]
     },
     "execution_count": 3,
     "metadata": {},
     "output_type": "execute_result"
    }
   ],
   "source": [
    "movies_df = movies_to_df('moviescripts/')\n",
    "movies_df.head()"
   ]
  },
  {
   "attachments": {},
   "cell_type": "markdown",
   "metadata": {},
   "source": [
    "Now, just out of curiosity, let's look at the top 7 speakers of each movie. Notice that some of them are weird -- we'll remove those manually (or find some regex way of catching them if we have time lol). These are mostly stage directions that were captured."
   ]
  },
  {
   "cell_type": "code",
   "execution_count": 4,
   "metadata": {},
   "outputs": [
    {
     "data": {
      "text/html": [
       "<div>\n",
       "<style scoped>\n",
       "    .dataframe tbody tr th:only-of-type {\n",
       "        vertical-align: middle;\n",
       "    }\n",
       "\n",
       "    .dataframe tbody tr th {\n",
       "        vertical-align: top;\n",
       "    }\n",
       "\n",
       "    .dataframe thead th {\n",
       "        text-align: right;\n",
       "    }\n",
       "</style>\n",
       "<table border=\"1\" class=\"dataframe\">\n",
       "  <thead>\n",
       "    <tr style=\"text-align: right;\">\n",
       "      <th></th>\n",
       "      <th>movie_name</th>\n",
       "      <th>character_name</th>\n",
       "      <th>lines</th>\n",
       "      <th>lines_len</th>\n",
       "    </tr>\n",
       "  </thead>\n",
       "  <tbody>\n",
       "    <tr>\n",
       "      <th>0</th>\n",
       "      <td>avengers</td>\n",
       "      <td>TONY</td>\n",
       "      <td>You're good on this end. The rest is up to you...</td>\n",
       "      <td>11492</td>\n",
       "    </tr>\n",
       "    <tr>\n",
       "      <th>0</th>\n",
       "      <td>dumb_and_dumber</td>\n",
       "      <td>LLOYD</td>\n",
       "      <td>Excuse me, can you tell me how to get to the m...</td>\n",
       "      <td>22037</td>\n",
       "    </tr>\n",
       "    <tr>\n",
       "      <th>0</th>\n",
       "      <td>lord_of_rings_return</td>\n",
       "      <td>ANGLE ON</td>\n",
       "      <td>: SMEAGOL and his cousin, DEAGOL, sit in a SMA...</td>\n",
       "      <td>26217</td>\n",
       "    </tr>\n",
       "    <tr>\n",
       "      <th>0</th>\n",
       "      <td>american-psycho</td>\n",
       "      <td>BATEMAN</td>\n",
       "      <td>(V.O.) We're sitting in Pastels, this nouvelle...</td>\n",
       "      <td>33267</td>\n",
       "    </tr>\n",
       "    <tr>\n",
       "      <th>0</th>\n",
       "      <td>indiana_jones_raiders</td>\n",
       "      <td>I</td>\n",
       "      <td>n the undergrowth, there is slithering movemen...</td>\n",
       "      <td>40450</td>\n",
       "    </tr>\n",
       "    <tr>\n",
       "      <th>0</th>\n",
       "      <td>finding_nemo</td>\n",
       "      <td>MARLIN</td>\n",
       "      <td>Wow. Wow. Wow. So, Coral, when you said you wa...</td>\n",
       "      <td>17775</td>\n",
       "    </tr>\n",
       "    <tr>\n",
       "      <th>0</th>\n",
       "      <td>twilight</td>\n",
       "      <td>B</td>\n",
       "      <td>ased on the novel by ut dying in the place of ...</td>\n",
       "      <td>11444</td>\n",
       "    </tr>\n",
       "    <tr>\n",
       "      <th>0</th>\n",
       "      <td>megamind</td>\n",
       "      <td>MASTER MIND</td>\n",
       "      <td>The real Einstein once said, \"God does not pla...</td>\n",
       "      <td>16424</td>\n",
       "    </tr>\n",
       "    <tr>\n",
       "      <th>0</th>\n",
       "      <td>harold_kumar_white_castle</td>\n",
       "      <td>KUMAR</td>\n",
       "      <td>Mononucleosis or mono is an infection caused b...</td>\n",
       "      <td>37536</td>\n",
       "    </tr>\n",
       "    <tr>\n",
       "      <th>0</th>\n",
       "      <td>it</td>\n",
       "      <td>T</td>\n",
       "      <td>hey wave at each other. Richie, bug-eyed glass...</td>\n",
       "      <td>16290</td>\n",
       "    </tr>\n",
       "  </tbody>\n",
       "</table>\n",
       "</div>"
      ],
      "text/plain": [
       "                  movie_name character_name  \\\n",
       "0                   avengers           TONY   \n",
       "0            dumb_and_dumber          LLOYD   \n",
       "0       lord_of_rings_return       ANGLE ON   \n",
       "0            american-psycho        BATEMAN   \n",
       "0      indiana_jones_raiders              I   \n",
       "0               finding_nemo         MARLIN   \n",
       "0                   twilight              B   \n",
       "0                   megamind    MASTER MIND   \n",
       "0  harold_kumar_white_castle          KUMAR   \n",
       "0                         it              T   \n",
       "\n",
       "                                               lines  lines_len  \n",
       "0  You're good on this end. The rest is up to you...      11492  \n",
       "0  Excuse me, can you tell me how to get to the m...      22037  \n",
       "0  : SMEAGOL and his cousin, DEAGOL, sit in a SMA...      26217  \n",
       "0  (V.O.) We're sitting in Pastels, this nouvelle...      33267  \n",
       "0  n the undergrowth, there is slithering movemen...      40450  \n",
       "0  Wow. Wow. Wow. So, Coral, when you said you wa...      17775  \n",
       "0  ased on the novel by ut dying in the place of ...      11444  \n",
       "0  The real Einstein once said, \"God does not pla...      16424  \n",
       "0  Mononucleosis or mono is an infection caused b...      37536  \n",
       "0  hey wave at each other. Richie, bug-eyed glass...      16290  "
      ]
     },
     "execution_count": 4,
     "metadata": {},
     "output_type": "execute_result"
    }
   ],
   "source": [
    "idx = movies_df.groupby('movie_name')['lines_len'].transform(max) == movies_df['lines_len']\n",
    "movies_df[idx] # gets largest line length by movie"
   ]
  },
  {
   "cell_type": "code",
   "execution_count": 5,
   "metadata": {},
   "outputs": [],
   "source": [
    "movies_df = movies_df.drop(columns=['lines_len'])\n",
    "movies_df.to_csv('moviedata.csv')"
   ]
  }
 ],
 "metadata": {
  "kernelspec": {
   "display_name": "Python 3",
   "language": "python",
   "name": "python3"
  },
  "language_info": {
   "codemirror_mode": {
    "name": "ipython",
    "version": 3
   },
   "file_extension": ".py",
   "mimetype": "text/x-python",
   "name": "python",
   "nbconvert_exporter": "python",
   "pygments_lexer": "ipython3",
   "version": "3.9.0"
  },
  "orig_nbformat": 4
 },
 "nbformat": 4,
 "nbformat_minor": 2
}
