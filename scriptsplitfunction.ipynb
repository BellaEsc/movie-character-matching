{
 "cells": [
  {
   "attachments": {},
   "cell_type": "markdown",
   "metadata": {},
   "source": [
    "# Creating a function to split scripts\n",
    "I want to make a function to split up the scripts into a dictionary with speaker name as the key and all of their lines as a string put together.\n",
    "\n",
    "* **Input**: a string containing a full movie script with this format:\n",
    "\n",
    "```\n",
    "    SPEAKER\n",
    "    Hello, my name is speaker\n",
    "\n",
    "    SPEAKER2\n",
    "    Hi, my name is speaker2\n",
    "\n",
    "    SPEAKER\n",
    "    Hi speaker2\n",
    "```\n",
    "* **Output**: a dictionary that looks like this:\n",
    "\n",
    "```\n",
    "    {'SPEAKER': 'Hello, my name is speaker. Hi speaker2', \n",
    "     'SPEAKER2': 'Hi, my name is speaker2.'}\n",
    "```\n",
    "\n",
    "All of the functions can be found in the `splitfuncts.py` file, each function will be walked through here."
   ]
  },
  {
   "attachments": {},
   "cell_type": "markdown",
   "metadata": {},
   "source": [
    "## Importing the scripts\n",
    "First, I'll make a function to easily import the scripts from the moviescripts folder as a string. We'll use the Megamind script as a sample.\n",
    "The read_script function is simple, it just imports the text file as a string."
   ]
  },
  {
   "cell_type": "code",
   "execution_count": 5,
   "metadata": {},
   "outputs": [
    {
     "data": {
      "text/plain": [
       "'MEGAMIND\\n\\n\\n\\nWritten by\\n\\nAlan Schoolcraft & Brent Simons\\n\\n\\n\\n\\nCREDITS SEQUENCE\\n\\nNEWSPAPER HEADLINE MONTAGE:\\n\\nHEADLINES flash before us, displaying their accompanying\\nphotographs.\\n\\n\"UBERMAN - METRO CITY'"
      ]
     },
     "execution_count": 5,
     "metadata": {},
     "output_type": "execute_result"
    }
   ],
   "source": [
    "import re\n",
    "import os\n",
    "import pandas as pd\n",
    "from splitfuncts import *\n",
    "\n",
    "megamind = read_script('megamind.txt')\n",
    "megamind[1:200]\n"
   ]
  },
  {
   "attachments": {},
   "cell_type": "markdown",
   "metadata": {},
   "source": [
    "## Script-to-dictionary function\n",
    "Now we've covered the importing, we need to actually convert them into a dictionary as outlined above. The script_to_dict function contains the regex used to split up the script by speaking character, which outputs a dictionary with each character as the key and their lines as one string object."
   ]
  },
  {
   "cell_type": "code",
   "execution_count": 6,
   "metadata": {},
   "outputs": [
    {
     "data": {
      "text/plain": [
       "'he real Einstein once said, \"God does not play dice with the world.\" He was right, because the world is MY dice. Is that understood? Alright, then - clean slate. Do we have the girl? Reporters are a '"
      ]
     },
     "execution_count": 6,
     "metadata": {},
     "output_type": "execute_result"
    }
   ],
   "source": [
    "megamind_dict = script_to_dict(megamind)\n",
    "megamind_dict['MASTER MIND'][1:200] # perfect"
   ]
  },
  {
   "attachments": {},
   "cell_type": "markdown",
   "metadata": {},
   "source": [
    "## Generating the rest of the movies\n",
    "Now that we've seen it works on Megamind, let's put the functions all together and try it for everyone else!\n",
    "\n",
    "**Note**: there's probably a faster way of doing this (can you iterate through a folder?) so maybe ask about that lol. Perhaps make a list of the file names and iterate through that..."
   ]
  },
  {
   "cell_type": "code",
   "execution_count": 7,
   "metadata": {},
   "outputs": [
    {
     "ename": "NameError",
     "evalue": "name 'file_to_df' is not defined",
     "output_type": "error",
     "traceback": [
      "\u001b[1;31m---------------------------------------------------------------------------\u001b[0m",
      "\u001b[1;31mNameError\u001b[0m                                 Traceback (most recent call last)",
      "Cell \u001b[1;32mIn[7], line 6\u001b[0m\n\u001b[0;32m      1\u001b[0m \u001b[39m#addams_family = read_script('addams_family.txt')\u001b[39;00m\n\u001b[0;32m      2\u001b[0m \u001b[39m#movie_list = ['american-psycho.txt', 'avengers.txt', 'dumb_and_dumber.txt', 'finding_nemo.txt', \u001b[39;00m\n\u001b[0;32m      3\u001b[0m \u001b[39m#              'harold_kumar_white_castle.txt', 'indiana_jones_raiders.txt', 'it.txt', 'lord_of_rings_return.txt',\u001b[39;00m\n\u001b[0;32m      4\u001b[0m \u001b[39m#              'twilight.txt']\u001b[39;00m\n\u001b[0;32m      5\u001b[0m \u001b[39m#american_psycho_df = file_to_df('american-psycho.txt')\u001b[39;00m\n\u001b[1;32m----> 6\u001b[0m avengers_df \u001b[39m=\u001b[39m file_to_df(\u001b[39m'\u001b[39m\u001b[39mavengers.txt\u001b[39m\u001b[39m'\u001b[39m)\n\u001b[0;32m      7\u001b[0m dumb_and_dumber_df \u001b[39m=\u001b[39m file_to_df(\u001b[39m'\u001b[39m\u001b[39mdumb_and_dumber.txt\u001b[39m\u001b[39m'\u001b[39m)\n\u001b[0;32m      8\u001b[0m finding_nemo_df \u001b[39m=\u001b[39m file_to_df(\u001b[39m'\u001b[39m\u001b[39mfinding_nemo.txt\u001b[39m\u001b[39m'\u001b[39m)\n",
      "\u001b[1;31mNameError\u001b[0m: name 'file_to_df' is not defined"
     ]
    }
   ],
   "source": [
    "#addams_family = read_script('addams_family.txt')\n",
    "#movie_list = ['american-psycho.txt', 'avengers.txt', 'dumb_and_dumber.txt', 'finding_nemo.txt', \n",
    "#              'harold_kumar_white_castle.txt', 'indiana_jones_raiders.txt', 'it.txt', 'lord_of_rings_return.txt',\n",
    "#              'twilight.txt']\n",
    "#american_psycho_df = file_to_df('american-psycho.txt')\n",
    "avengers_df = file_to_df('avengers.txt')\n",
    "dumb_and_dumber_df = file_to_df('dumb_and_dumber.txt')\n",
    "finding_nemo_df = file_to_df('finding_nemo.txt')\n",
    "harold_kumar_df = file_to_df('harold_kumar_white_castle.txt')\n",
    "#harry_potter = read_script('harry_potter_chamber.txt')\n",
    "indiana_jones_df = file_to_df('indiana_jones_raiders.txt')\n",
    "it_df = file_to_df('it.txt')\n",
    "lord_rings_df = file_to_df('lord_of_rings_return.txt')\n",
    "#titanic = read_script('titanic.txt')\n",
    "twilight_df = file_to_df('twilight.txt')\n",
    "\n",
    "\n"
   ]
  },
  {
   "attachments": {},
   "cell_type": "markdown",
   "metadata": {},
   "source": [
    "Upon further inspection, Addams Family, Harry Potter, and Titanic are not formatted correctly and the function will not work. Find a replacement or fix it somehow!"
   ]
  },
  {
   "cell_type": "code",
   "execution_count": 4,
   "metadata": {},
   "outputs": [
    {
     "data": {
      "text/html": [
       "<div>\n",
       "<style scoped>\n",
       "    .dataframe tbody tr th:only-of-type {\n",
       "        vertical-align: middle;\n",
       "    }\n",
       "\n",
       "    .dataframe tbody tr th {\n",
       "        vertical-align: top;\n",
       "    }\n",
       "\n",
       "    .dataframe thead th {\n",
       "        text-align: right;\n",
       "    }\n",
       "</style>\n",
       "<table border=\"1\" class=\"dataframe\">\n",
       "  <thead>\n",
       "    <tr style=\"text-align: right;\">\n",
       "      <th></th>\n",
       "      <th>movie_name</th>\n",
       "      <th>character_name</th>\n",
       "      <th>lines</th>\n",
       "      <th>lines_len</th>\n",
       "    </tr>\n",
       "  </thead>\n",
       "  <tbody>\n",
       "    <tr>\n",
       "      <th>0</th>\n",
       "      <td>avengers</td>\n",
       "      <td>TONY</td>\n",
       "      <td>You're good on this end. The rest is up to you...</td>\n",
       "      <td>11498</td>\n",
       "    </tr>\n",
       "    <tr>\n",
       "      <th>1</th>\n",
       "      <td>avengers</td>\n",
       "      <td>NICK FURY</td>\n",
       "      <td>How bad is it? NASA didn't authorize Selvig to...</td>\n",
       "      <td>9327</td>\n",
       "    </tr>\n",
       "    <tr>\n",
       "      <th>2</th>\n",
       "      <td>avengers</td>\n",
       "      <td>LOKI</td>\n",
       "      <td>You have heart. Loki points the head of his sp...</td>\n",
       "      <td>6748</td>\n",
       "    </tr>\n",
       "    <tr>\n",
       "      <th>3</th>\n",
       "      <td>avengers</td>\n",
       "      <td>T</td>\n",
       "      <td>his doesn't have to get any messier. he Tesser...</td>\n",
       "      <td>5561</td>\n",
       "    </tr>\n",
       "    <tr>\n",
       "      <th>4</th>\n",
       "      <td>avengers</td>\n",
       "      <td>BANNER</td>\n",
       "      <td>Calm down. What's wrong? Is he like them? The ...</td>\n",
       "      <td>5276</td>\n",
       "    </tr>\n",
       "    <tr>\n",
       "      <th>...</th>\n",
       "      <td>...</td>\n",
       "      <td>...</td>\n",
       "      <td>...</td>\n",
       "      <td>...</td>\n",
       "    </tr>\n",
       "    <tr>\n",
       "      <th>194</th>\n",
       "      <td>avengers</td>\n",
       "      <td>HYDRA WEAPONS</td>\n",
       "      <td>.</td>\n",
       "      <td>1</td>\n",
       "    </tr>\n",
       "    <tr>\n",
       "      <th>195</th>\n",
       "      <td>avengers</td>\n",
       "      <td>STANDING THERE</td>\n",
       "      <td>)</td>\n",
       "      <td>1</td>\n",
       "    </tr>\n",
       "    <tr>\n",
       "      <th>196</th>\n",
       "      <td>avengers</td>\n",
       "      <td>QUAKES</td>\n",
       "      <td>.</td>\n",
       "      <td>1</td>\n",
       "    </tr>\n",
       "    <tr>\n",
       "      <th>197</th>\n",
       "      <td>avengers</td>\n",
       "      <td>NASA SCIENTIST</td>\n",
       "      <td></td>\n",
       "      <td>0</td>\n",
       "    </tr>\n",
       "    <tr>\n",
       "      <th>198</th>\n",
       "      <td>avengers</td>\n",
       "      <td>THE END</td>\n",
       "      <td></td>\n",
       "      <td>0</td>\n",
       "    </tr>\n",
       "  </tbody>\n",
       "</table>\n",
       "<p>199 rows × 4 columns</p>\n",
       "</div>"
      ],
      "text/plain": [
       "    movie_name  character_name  \\\n",
       "0     avengers            TONY   \n",
       "1     avengers       NICK FURY   \n",
       "2     avengers            LOKI   \n",
       "3     avengers               T   \n",
       "4     avengers          BANNER   \n",
       "..         ...             ...   \n",
       "194   avengers   HYDRA WEAPONS   \n",
       "195   avengers  STANDING THERE   \n",
       "196   avengers          QUAKES   \n",
       "197   avengers  NASA SCIENTIST   \n",
       "198   avengers         THE END   \n",
       "\n",
       "                                                 lines  lines_len  \n",
       "0    You're good on this end. The rest is up to you...      11498  \n",
       "1    How bad is it? NASA didn't authorize Selvig to...       9327  \n",
       "2    You have heart. Loki points the head of his sp...       6748  \n",
       "3    his doesn't have to get any messier. he Tesser...       5561  \n",
       "4    Calm down. What's wrong? Is he like them? The ...       5276  \n",
       "..                                                 ...        ...  \n",
       "194                                                  .          1  \n",
       "195                                                  )          1  \n",
       "196                                                  .          1  \n",
       "197                                                             0  \n",
       "198                                                             0  \n",
       "\n",
       "[199 rows x 4 columns]"
      ]
     },
     "execution_count": 4,
     "metadata": {},
     "output_type": "execute_result"
    }
   ],
   "source": [
    "avengers_df"
   ]
  }
 ],
 "metadata": {
  "kernelspec": {
   "display_name": "Python 3",
   "language": "python",
   "name": "python3"
  },
  "language_info": {
   "codemirror_mode": {
    "name": "ipython",
    "version": 3
   },
   "file_extension": ".py",
   "mimetype": "text/x-python",
   "name": "python",
   "nbconvert_exporter": "python",
   "pygments_lexer": "ipython3",
   "version": "3.11.1"
  },
  "orig_nbformat": 4
 },
 "nbformat": 4,
 "nbformat_minor": 2
}
