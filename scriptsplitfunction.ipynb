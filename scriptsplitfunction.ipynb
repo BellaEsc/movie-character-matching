{
 "cells": [
  {
   "attachments": {},
   "cell_type": "markdown",
   "metadata": {},
   "source": [
    "# Creating a function to split scripts\n",
    "I want to make a function to split up the scripts into a dictionary with speaker name as the key and all of their lines as a string put together.\n",
    "\n",
    "* **Input**: a string containing a full movie script with this format:\n",
    "\n",
    "```\n",
    "    SPEAKER\n",
    "    Hello, my name is speaker\n",
    "\n",
    "    SPEAKER2\n",
    "    Hi, my name is speaker2\n",
    "\n",
    "    SPEAKER\n",
    "    Hi speaker2\n",
    "```\n",
    "* **Output**: a dictionary that looks like this:\n",
    "\n",
    "```\n",
    "    {'SPEAKER': 'Hello, my name is speaker. Hi speaker2', \n",
    "     'SPEAKER2': 'Hi, my name is speaker2.'}\n",
    "```\n",
    "\n",
    "All of the functions can be found in the `splitfuncts.py` file, each function will be walked through here."
   ]
  },
  {
   "attachments": {},
   "cell_type": "markdown",
   "metadata": {},
   "source": [
    "## Importing the scripts\n",
    "First, I'll make a function to easily import the scripts from the moviescripts folder as a string. We'll use the Megamind script as a sample.\n",
    "The read_script function is simple, it just imports the text file as a string."
   ]
  },
  {
   "cell_type": "code",
   "execution_count": 1,
   "metadata": {},
   "outputs": [
    {
     "data": {
      "text/plain": [
       "'MEGAMIND\\n\\n\\n\\nWritten by\\n\\nAlan Schoolcraft & Brent Simons\\n\\n\\n\\n\\nCREDITS SEQUENCE\\n\\nNEWSPAPER HEADLINE MONTAGE:\\n\\nHEADLINES flash before us, displaying their accompanying\\nphotographs.\\n\\n\"UBERMAN - METRO CITY'"
      ]
     },
     "execution_count": 1,
     "metadata": {},
     "output_type": "execute_result"
    }
   ],
   "source": [
    "import re\n",
    "import os\n",
    "import pandas as pd\n",
    "from splitfuncts import *\n",
    "\n",
    "megamind = read_script('megamind.txt')\n",
    "megamind[1:200]\n"
   ]
  },
  {
   "attachments": {},
   "cell_type": "markdown",
   "metadata": {},
   "source": [
    "## Script-to-dictionary function\n",
    "Now we've covered the importing, we need to actually convert them into a dictionary as outlined above. The script_to_dict function contains the regex used to split up the script by speaking character, which outputs a dictionary with each character as the key and their lines as one string object."
   ]
  },
  {
   "cell_type": "code",
   "execution_count": 2,
   "metadata": {},
   "outputs": [
    {
     "data": {
      "text/plain": [
       "'he real Einstein once said, \"God does not play dice with the world.\" He was right, because the world is MY dice. Is that understood? Alright, then - clean slate. Do we have the girl? Reporters are a '"
      ]
     },
     "execution_count": 2,
     "metadata": {},
     "output_type": "execute_result"
    }
   ],
   "source": [
    "megamind_dict = script_to_dict(megamind)\n",
    "megamind_dict['MASTER MIND'][1:200] # perfect"
   ]
  },
  {
   "attachments": {},
   "cell_type": "markdown",
   "metadata": {},
   "source": [
    "## Generating the rest of the movies\n",
    "Now that we've seen it works on Megamind, let's put the functions all together and try it for everyone else!\n",
    "\n",
    "**Note**: there's probably a faster way of doing this (can you iterate through a folder?) so maybe ask about that lol. Perhaps make a list of the file names and iterate through that..."
   ]
  },
  {
   "cell_type": "code",
   "execution_count": 3,
   "metadata": {},
   "outputs": [],
   "source": [
    "#addams_family = read_script('addams_family.txt')\n",
    "#movie_list = ['american-psycho.txt', 'avengers.txt', 'dumb_and_dumber.txt', 'finding_nemo.txt', \n",
    "#              'harold_kumar_white_castle.txt', 'indiana_jones_raiders.txt', 'it.txt', 'lord_of_rings_return.txt',\n",
    "#              'twilight.txt']\n",
    "#american_psycho_df = file_to_df('american-psycho.txt')\n",
    "avengers_df = file_to_df('avengers.txt')\n",
    "dumb_and_dumber_df = file_to_df('dumb_and_dumber.txt')\n",
    "finding_nemo_df = file_to_df('finding_nemo.txt')\n",
    "harold_kumar_df = file_to_df('harold_kumar_white_castle.txt')\n",
    "#harry_potter = read_script('harry_potter_chamber.txt')\n",
    "indiana_jones_df = file_to_df('indiana_jones_raiders.txt')\n",
    "it_df = file_to_df('it.txt')\n",
    "lord_rings_df = file_to_df('lord_of_rings_return.txt')\n",
    "#titanic = read_script('titanic.txt')\n",
    "twilight_df = file_to_df('twilight.txt')\n",
    "\n",
    "\n"
   ]
  },
  {
   "attachments": {},
   "cell_type": "markdown",
   "metadata": {},
   "source": [
    "Upon further inspection, Addams Family, Harry Potter, and Titanic are not formatted correctly and the function will not work. Find a replacement or fix it somehow!"
   ]
  },
  {
   "attachments": {},
   "cell_type": "markdown",
   "metadata": {},
   "source": [
    "Now, I will merge all of the dataframes, taking the top 7 speakers from each movie. We will remove the weird ones manually."
   ]
  },
  {
   "cell_type": "code",
   "execution_count": 13,
   "metadata": {},
   "outputs": [
    {
     "data": {
      "text/html": [
       "<div>\n",
       "<style scoped>\n",
       "    .dataframe tbody tr th:only-of-type {\n",
       "        vertical-align: middle;\n",
       "    }\n",
       "\n",
       "    .dataframe tbody tr th {\n",
       "        vertical-align: top;\n",
       "    }\n",
       "\n",
       "    .dataframe thead th {\n",
       "        text-align: right;\n",
       "    }\n",
       "</style>\n",
       "<table border=\"1\" class=\"dataframe\">\n",
       "  <thead>\n",
       "    <tr style=\"text-align: right;\">\n",
       "      <th></th>\n",
       "      <th>movie_name</th>\n",
       "      <th>character_name</th>\n",
       "      <th>lines</th>\n",
       "      <th>lines_len</th>\n",
       "    </tr>\n",
       "  </thead>\n",
       "  <tbody>\n",
       "    <tr>\n",
       "      <th>0</th>\n",
       "      <td>avengers</td>\n",
       "      <td>TONY</td>\n",
       "      <td>You're good on this end. The rest is up to you...</td>\n",
       "      <td>11498</td>\n",
       "    </tr>\n",
       "    <tr>\n",
       "      <th>0</th>\n",
       "      <td>dumb_and_dumber</td>\n",
       "      <td>LLOYD</td>\n",
       "      <td>Excuse me, can you tell me how to get to the m...</td>\n",
       "      <td>22037</td>\n",
       "    </tr>\n",
       "    <tr>\n",
       "      <th>0</th>\n",
       "      <td>finding_nemo</td>\n",
       "      <td>MARLIN</td>\n",
       "      <td>Wow. Wow. Wow. So, Coral, when you said you wa...</td>\n",
       "      <td>17775</td>\n",
       "    </tr>\n",
       "    <tr>\n",
       "      <th>0</th>\n",
       "      <td>harold_kumar_white_castle</td>\n",
       "      <td>KUMAR</td>\n",
       "      <td>Mononucleosis or mono is an infection caused b...</td>\n",
       "      <td>37536</td>\n",
       "    </tr>\n",
       "    <tr>\n",
       "      <th>0</th>\n",
       "      <td>indiana_jones_raiders</td>\n",
       "      <td>I</td>\n",
       "      <td>n the undergrowth, there is slithering movemen...</td>\n",
       "      <td>40450</td>\n",
       "    </tr>\n",
       "    <tr>\n",
       "      <th>0</th>\n",
       "      <td>it</td>\n",
       "      <td>T</td>\n",
       "      <td>hey wave at each other. Richie, bug-eyed glass...</td>\n",
       "      <td>16290</td>\n",
       "    </tr>\n",
       "    <tr>\n",
       "      <th>0</th>\n",
       "      <td>lord_of_rings_return</td>\n",
       "      <td>ANGLE ON</td>\n",
       "      <td>: SMEAGOL and his cousin, DEAGOL, sit in a SMA...</td>\n",
       "      <td>26217</td>\n",
       "    </tr>\n",
       "    <tr>\n",
       "      <th>0</th>\n",
       "      <td>twilight</td>\n",
       "      <td>B</td>\n",
       "      <td>ased on the novel by ut dying in the place of ...</td>\n",
       "      <td>11456</td>\n",
       "    </tr>\n",
       "  </tbody>\n",
       "</table>\n",
       "</div>"
      ],
      "text/plain": [
       "                  movie_name character_name  \\\n",
       "0                   avengers           TONY   \n",
       "0            dumb_and_dumber          LLOYD   \n",
       "0               finding_nemo         MARLIN   \n",
       "0  harold_kumar_white_castle          KUMAR   \n",
       "0      indiana_jones_raiders              I   \n",
       "0                         it              T   \n",
       "0       lord_of_rings_return       ANGLE ON   \n",
       "0                   twilight              B   \n",
       "\n",
       "                                               lines  lines_len  \n",
       "0  You're good on this end. The rest is up to you...      11498  \n",
       "0  Excuse me, can you tell me how to get to the m...      22037  \n",
       "0  Wow. Wow. Wow. So, Coral, when you said you wa...      17775  \n",
       "0  Mononucleosis or mono is an infection caused b...      37536  \n",
       "0  n the undergrowth, there is slithering movemen...      40450  \n",
       "0  hey wave at each other. Richie, bug-eyed glass...      16290  \n",
       "0  : SMEAGOL and his cousin, DEAGOL, sit in a SMA...      26217  \n",
       "0  ased on the novel by ut dying in the place of ...      11456  "
      ]
     },
     "execution_count": 13,
     "metadata": {},
     "output_type": "execute_result"
    }
   ],
   "source": [
    "movie_dfs_list = [avengers_df.head(7), dumb_and_dumber_df.head(7), finding_nemo_df.head(7), harold_kumar_df.head(7), indiana_jones_df.head(7), it_df.head(7), lord_rings_df.head(7), twilight_df.head(7)]\n",
    "movies_df = pd.concat(movie_dfs_list)\n",
    "\n",
    "idx = movies_df.groupby('movie_name')['lines_len'].transform(max) == movies_df['lines_len']\n",
    "movies_df[idx] # gets largest line length by movie"
   ]
  }
 ],
 "metadata": {
  "kernelspec": {
   "display_name": "Python 3",
   "language": "python",
   "name": "python3"
  },
  "language_info": {
   "codemirror_mode": {
    "name": "ipython",
    "version": 3
   },
   "file_extension": ".py",
   "mimetype": "text/x-python",
   "name": "python",
   "nbconvert_exporter": "python",
   "pygments_lexer": "ipython3",
   "version": "3.11.1"
  },
  "orig_nbformat": 4
 },
 "nbformat": 4,
 "nbformat_minor": 2
}
