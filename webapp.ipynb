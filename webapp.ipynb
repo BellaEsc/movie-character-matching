{
 "cells": [
  {
   "cell_type": "code",
   "execution_count": 16,
   "metadata": {},
   "outputs": [],
   "source": [
    "import gradio as gr\n",
    "import joblib\n",
    "import pandas as pd\n",
    "import nltk\n",
    "from nltk.tokenize import word_tokenize\n",
    "from sklearn.feature_extraction.text import CountVectorizer, TfidfTransformer, TfidfVectorizer\n",
    "from sklearn.model_selection import cross_val_score, KFold, GridSearchCV, train_test_split\n",
    "from sklearn.pipeline import Pipeline\n",
    "from sklearn.preprocessing import LabelEncoder\n",
    "from sklearn.svm import SVC\n",
    "from sklearn.neural_network import MLPClassifier\n",
    "from phrasematch import get_best_match, phrase_match\n",
    "import spacy\n",
    "import pandas as pd\n",
    "import requests\n",
    "import os\n",
    "nlp = spacy.load('en_core_web_lg')\n",
    "data = pd.read_csv('data/moviedata2.csv')\n"
   ]
  },
  {
   "cell_type": "code",
   "execution_count": 9,
   "metadata": {},
   "outputs": [
    {
     "name": "stderr",
     "output_type": "stream",
     "text": [
      "[nltk_data] Downloading package punkt to\n",
      "[nltk_data]     /Users/christinanassar/nltk_data...\n",
      "[nltk_data]   Package punkt is already up-to-date!\n"
     ]
    },
    {
     "data": {
      "text/plain": [
       "True"
      ]
     },
     "execution_count": 9,
     "metadata": {},
     "output_type": "execute_result"
    }
   ],
   "source": [
    "nltk.download('punkt')"
   ]
  },
  {
   "cell_type": "code",
   "execution_count": 10,
   "metadata": {},
   "outputs": [],
   "source": [
    "model = joblib.load('models/uni_mlp_grid.joblib')"
   ]
  },
  {
   "cell_type": "code",
   "execution_count": 11,
   "metadata": {},
   "outputs": [],
   "source": [
    "def predict(user_input):\n",
    "  prediction = model.predict([user_input])\n",
    "  return prediction\n"
   ]
  },
  {
   "cell_type": "code",
   "execution_count": 15,
   "metadata": {},
   "outputs": [
    {
     "data": {
      "text/plain": [
       "0                American Psycho\n",
       "469                 Finding Nemo\n",
       "715         Harry Potter Chamber\n",
       "969                     Megamind\n",
       "1200    Pirates Of The Caribbean\n",
       "1411                    Twilight\n",
       "Name: movie, dtype: object"
      ]
     },
     "execution_count": 15,
     "metadata": {},
     "output_type": "execute_result"
    }
   ],
   "source": [
    "# Path to the directory where the images are stored\n",
    "images_path = \"character_images\"\n",
    "\n",
    "# Dictionary to store the images\n",
    "images = {}\n",
    "\n",
    "data[\"movie\"].drop_duplicates()"
   ]
  },
  {
   "cell_type": "code",
   "execution_count": 7,
   "metadata": {},
   "outputs": [
    {
     "name": "stderr",
     "output_type": "stream",
     "text": [
      "/Library/Frameworks/Python.framework/Versions/3.11/lib/python3.11/site-packages/gradio/inputs.py:27: UserWarning: Usage of gradio.inputs is deprecated, and will not be supported in the future, please import your component from gradio.components\n",
      "  warnings.warn(\n",
      "/Library/Frameworks/Python.framework/Versions/3.11/lib/python3.11/site-packages/gradio/deprecation.py:40: UserWarning: `optional` parameter is deprecated, and it has no effect\n",
      "  warnings.warn(value)\n",
      "/Library/Frameworks/Python.framework/Versions/3.11/lib/python3.11/site-packages/gradio/deprecation.py:40: UserWarning: `numeric` parameter is deprecated, and it has no effect\n",
      "  warnings.warn(value)\n",
      "/Library/Frameworks/Python.framework/Versions/3.11/lib/python3.11/site-packages/gradio/outputs.py:197: UserWarning: Usage of gradio.outputs is deprecated, and will not be supported in the future, please import your components from gradio.components\n",
      "  warnings.warn(\n",
      "/Library/Frameworks/Python.framework/Versions/3.11/lib/python3.11/site-packages/gradio/deprecation.py:40: UserWarning: The 'type' parameter has been deprecated. Use the Number component instead.\n",
      "  warnings.warn(value)\n"
     ]
    },
    {
     "name": "stdout",
     "output_type": "stream",
     "text": [
      "Running on local URL:  http://127.0.0.1:7860\n",
      "\n",
      "To create a public link, set `share=True` in `launch()`.\n"
     ]
    },
    {
     "data": {
      "text/html": [
       "<div><iframe src=\"http://127.0.0.1:7860/\" width=\"100%\" height=\"500\" allow=\"autoplay; camera; microphone; clipboard-read; clipboard-write;\" frameborder=\"0\" allowfullscreen></iframe></div>"
      ],
      "text/plain": [
       "<IPython.core.display.HTML object>"
      ]
     },
     "metadata": {},
     "output_type": "display_data"
    },
    {
     "data": {
      "text/plain": []
     },
     "execution_count": 7,
     "metadata": {},
     "output_type": "execute_result"
    }
   ],
   "source": [
    "\n",
    "def my_function(input_1, input_2, input_3, input_4, input_5):\n",
    "    inputs_list = [input_1, input_2, input_3, input_4, input_5]\n",
    "    # concatenate inputs into a single string separated by a space\n",
    "    inputs_string = ' '.join(inputs_list)\n",
    "    # your code here to process inputs using backend model and produce output\n",
    "    output = predict(inputs_string)\n",
    "    match = phrase_match(inputs_list, output[0], data)\n",
    "    # Filter DataFrame to rows where the character matches the input name\n",
    "    character_df = data[data[\"character_name\"] == output[0]]\n",
    "    # Extract the movie names from the filtered DataFrame\n",
    "    movie = character_df[\"movie\"].tolist()\n",
    "    character_name = output[0]\n",
    "    # Get the image for the character from the dictionary\n",
    "    character_image = images[character_name]\n",
    "\n",
    "    return output[0], movie[0], '\"'+ str(match[0]) + '\"', '\"' + str(match[1]) + '\"', (str(round(match[2] * 100, 2)) + \"%\")#, image_data\n",
    "\n",
    "input_1 = gr.inputs.Textbox(label=\"Enter your name:\")\n",
    "input_2 = gr.inputs.Textbox(label=\"You have to save the world from alien pirates who are greedy for our silver spoons. What will you do first?\")\n",
    "input_3 = gr.inputs.Textbox(label=\"Your friend texts you that they're sick with the bubblegum flu. What is your response?\")\n",
    "input_4 = gr.inputs.Textbox(label=\"What is a song lyric thats always stuck in your head?\")\n",
    "input_5 = gr.inputs.Textbox(label=\"What is you favorite catch phrase?\")\n",
    "\n",
    "outputs = [\n",
    "    gr.outputs.Label(label=\"YOUR CHARACHTER:\", type=\"auto\"),\n",
    "    gr.outputs.Label(label=\"FROM:\", type=\"auto\"),\n",
    "    gr.outputs.Label(label=\"YOUR PHRASE:\", type=\"auto\"),\n",
    "    gr.outputs.Label(label=\"IS MOST SIMILAR TO THIS LINE FROM YOUR CHARACHTER:\", type=\"auto\"),\n",
    "    gr.outputs.Label(label=\"SIMILARITY TO CHARACTER:\", type=\"auto\"),\n",
    "    gr.outputs.Image(label=\"Character Image\"),\n",
    "]\n",
    "\n",
    "iface = gr.Interface(fn=my_function,\n",
    "                     inputs=[input_1, input_2, input_3, input_4, input_5], \n",
    "                     outputs=outputs, \n",
    "                     title=\"What Character are YOU?\", \n",
    "                     description=\"Which movie character speaks the most like you?!\")\n",
    "\n",
    "iface.launch()"
   ]
  }
 ],
 "metadata": {
  "interpreter": {
   "hash": "7e1998ff7f8aa20ada591c520b972326324e5ea05489af9e422744c7c09f6dad"
  },
  "kernelspec": {
   "display_name": "Python 3.10.2 64-bit",
   "language": "python",
   "name": "python3"
  },
  "language_info": {
   "codemirror_mode": {
    "name": "ipython",
    "version": 3
   },
   "file_extension": ".py",
   "mimetype": "text/x-python",
   "name": "python",
   "nbconvert_exporter": "python",
   "pygments_lexer": "ipython3",
   "version": "3.11.3"
  },
  "orig_nbformat": 4
 },
 "nbformat": 4,
 "nbformat_minor": 2
}
