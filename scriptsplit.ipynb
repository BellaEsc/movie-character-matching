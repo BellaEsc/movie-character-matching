{
 "cells": [
  {
   "attachments": {},
   "cell_type": "markdown",
   "metadata": {},
   "source": [
    "# Creating a function to split scripts\n",
    "I want to make a function to split up the scripts into a dictionary with speaker name as the key and all of their lines as a string put together.\n",
    "\n",
    "* **Input**: a string containing a full movie script with this format:\n",
    "\n",
    "```\n",
    "    SPEAKER\n",
    "    Hello, my name is speaker\n",
    "\n",
    "    SPEAKER2\n",
    "    Hi, my name is speaker2\n",
    "\n",
    "    SPEAKER\n",
    "    Hi speaker2\n",
    "```\n",
    "* **Output**: a dictionary that looks like this:\n",
    "\n",
    "```\n",
    "    {'SPEAKER': 'Hello, my name is speaker. Hi speaker2', \n",
    "     'SPEAKER2': 'Hi, my name is speaker2.'}\n",
    "```\n",
    "\n",
    "All of the functions can be found in the `splitfuncts.py` file, each function will be walked through here."
   ]
  },
  {
   "attachments": {},
   "cell_type": "markdown",
   "metadata": {},
   "source": [
    "## Importing the scripts\n",
    "First, I'll make a function to easily import the scripts from the moviescripts folder as a string. We'll use the Megamind script as a sample.\n",
    "The read_script function is simple, it just imports the text file as a string."
   ]
  },
  {
   "cell_type": "code",
   "execution_count": 1,
   "metadata": {},
   "outputs": [
    {
     "data": {
      "text/plain": [
       "'MEGAMIND\\n\\n\\n\\nWritten by\\n\\nAlan Schoolcraft & Brent Simons\\n\\n\\n\\n\\nCREDITS SEQUENCE\\n\\nNEWSPAPER HEADLINE MONTAGE:\\n\\nHEADLINES flash before us, displaying their accompanying\\nphotographs.\\n\\n\"UBERMAN - METRO CITY'"
      ]
     },
     "execution_count": 1,
     "metadata": {},
     "output_type": "execute_result"
    }
   ],
   "source": [
    "import re\n",
    "import os\n",
    "import pandas as pd\n",
    "from splitfuncts import *\n",
    "\n",
    "megamind = read_script('megamind.txt')\n",
    "megamind[1:200]\n"
   ]
  },
  {
   "attachments": {},
   "cell_type": "markdown",
   "metadata": {},
   "source": [
    "## Script-to-dictionary function\n",
    "Now we've covered the importing, we need to actually convert them into a dictionary as outlined above. The script_to_dict function contains the regex used to split up the script by speaking character, which outputs a dictionary with each character as the key and their lines as one string object."
   ]
  },
  {
   "cell_type": "code",
   "execution_count": 2,
   "metadata": {},
   "outputs": [
    {
     "data": {
      "text/plain": [
       "'he real Einstein once said, \"God does not play dice with the world.\" He was right, because the world is MY dice. Is that understood? Alright, then - clean slate. Do we have the girl? Reporters are a '"
      ]
     },
     "execution_count": 2,
     "metadata": {},
     "output_type": "execute_result"
    }
   ],
   "source": [
    "megamind_dict = script_to_dict(megamind)\n",
    "megamind_dict['MASTER MIND'][1:200] # perfect"
   ]
  },
  {
   "attachments": {},
   "cell_type": "markdown",
   "metadata": {},
   "source": [
    "## Generating the rest of the movies\n",
    "Now that we've seen it works on Megamind, let's put the functions all together and try it for everyone else!\n",
    "\n",
    "To do this, I've created a function `movies_to_df()` which takes in the name of the movie folder and outputs the dataframe that we want with the top 5 speakers in each movie!"
   ]
  },
  {
   "cell_type": "code",
   "execution_count": 3,
   "metadata": {},
   "outputs": [
    {
     "name": "stderr",
     "output_type": "stream",
     "text": [
      "/Users/bellaesc/Desktop/school/Year 3/Winter/movie-character-matching/splitfuncts.py:71: SettingWithCopyWarning: \n",
      "A value is trying to be set on a copy of a slice from a DataFrame.\n",
      "Try using .loc[row_indexer,col_indexer] = value instead\n",
      "\n",
      "See the caveats in the documentation: https://pandas.pydata.org/pandas-docs/stable/user_guide/indexing.html#returning-a-view-versus-a-copy\n",
      "  movie_df['lines'] = movie_df['lines'].str.lower()\n",
      "/Users/bellaesc/Desktop/school/Year 3/Winter/movie-character-matching/splitfuncts.py:71: SettingWithCopyWarning: \n",
      "A value is trying to be set on a copy of a slice from a DataFrame.\n",
      "Try using .loc[row_indexer,col_indexer] = value instead\n",
      "\n",
      "See the caveats in the documentation: https://pandas.pydata.org/pandas-docs/stable/user_guide/indexing.html#returning-a-view-versus-a-copy\n",
      "  movie_df['lines'] = movie_df['lines'].str.lower()\n",
      "/Users/bellaesc/Desktop/school/Year 3/Winter/movie-character-matching/splitfuncts.py:71: SettingWithCopyWarning: \n",
      "A value is trying to be set on a copy of a slice from a DataFrame.\n",
      "Try using .loc[row_indexer,col_indexer] = value instead\n",
      "\n",
      "See the caveats in the documentation: https://pandas.pydata.org/pandas-docs/stable/user_guide/indexing.html#returning-a-view-versus-a-copy\n",
      "  movie_df['lines'] = movie_df['lines'].str.lower()\n",
      "/Users/bellaesc/Desktop/school/Year 3/Winter/movie-character-matching/splitfuncts.py:71: SettingWithCopyWarning: \n",
      "A value is trying to be set on a copy of a slice from a DataFrame.\n",
      "Try using .loc[row_indexer,col_indexer] = value instead\n",
      "\n",
      "See the caveats in the documentation: https://pandas.pydata.org/pandas-docs/stable/user_guide/indexing.html#returning-a-view-versus-a-copy\n",
      "  movie_df['lines'] = movie_df['lines'].str.lower()\n",
      "/Users/bellaesc/Desktop/school/Year 3/Winter/movie-character-matching/splitfuncts.py:71: SettingWithCopyWarning: \n",
      "A value is trying to be set on a copy of a slice from a DataFrame.\n",
      "Try using .loc[row_indexer,col_indexer] = value instead\n",
      "\n",
      "See the caveats in the documentation: https://pandas.pydata.org/pandas-docs/stable/user_guide/indexing.html#returning-a-view-versus-a-copy\n",
      "  movie_df['lines'] = movie_df['lines'].str.lower()\n",
      "/Users/bellaesc/Desktop/school/Year 3/Winter/movie-character-matching/splitfuncts.py:71: SettingWithCopyWarning: \n",
      "A value is trying to be set on a copy of a slice from a DataFrame.\n",
      "Try using .loc[row_indexer,col_indexer] = value instead\n",
      "\n",
      "See the caveats in the documentation: https://pandas.pydata.org/pandas-docs/stable/user_guide/indexing.html#returning-a-view-versus-a-copy\n",
      "  movie_df['lines'] = movie_df['lines'].str.lower()\n",
      "/Users/bellaesc/Desktop/school/Year 3/Winter/movie-character-matching/splitfuncts.py:71: SettingWithCopyWarning: \n",
      "A value is trying to be set on a copy of a slice from a DataFrame.\n",
      "Try using .loc[row_indexer,col_indexer] = value instead\n",
      "\n",
      "See the caveats in the documentation: https://pandas.pydata.org/pandas-docs/stable/user_guide/indexing.html#returning-a-view-versus-a-copy\n",
      "  movie_df['lines'] = movie_df['lines'].str.lower()\n",
      "/Users/bellaesc/Desktop/school/Year 3/Winter/movie-character-matching/splitfuncts.py:71: SettingWithCopyWarning: \n",
      "A value is trying to be set on a copy of a slice from a DataFrame.\n",
      "Try using .loc[row_indexer,col_indexer] = value instead\n",
      "\n",
      "See the caveats in the documentation: https://pandas.pydata.org/pandas-docs/stable/user_guide/indexing.html#returning-a-view-versus-a-copy\n",
      "  movie_df['lines'] = movie_df['lines'].str.lower()\n",
      "/Users/bellaesc/Desktop/school/Year 3/Winter/movie-character-matching/splitfuncts.py:71: SettingWithCopyWarning: \n",
      "A value is trying to be set on a copy of a slice from a DataFrame.\n",
      "Try using .loc[row_indexer,col_indexer] = value instead\n",
      "\n",
      "See the caveats in the documentation: https://pandas.pydata.org/pandas-docs/stable/user_guide/indexing.html#returning-a-view-versus-a-copy\n",
      "  movie_df['lines'] = movie_df['lines'].str.lower()\n",
      "/Users/bellaesc/Desktop/school/Year 3/Winter/movie-character-matching/splitfuncts.py:71: SettingWithCopyWarning: \n",
      "A value is trying to be set on a copy of a slice from a DataFrame.\n",
      "Try using .loc[row_indexer,col_indexer] = value instead\n",
      "\n",
      "See the caveats in the documentation: https://pandas.pydata.org/pandas-docs/stable/user_guide/indexing.html#returning-a-view-versus-a-copy\n",
      "  movie_df['lines'] = movie_df['lines'].str.lower()\n"
     ]
    },
    {
     "data": {
      "text/html": [
       "<div>\n",
       "<style scoped>\n",
       "    .dataframe tbody tr th:only-of-type {\n",
       "        vertical-align: middle;\n",
       "    }\n",
       "\n",
       "    .dataframe tbody tr th {\n",
       "        vertical-align: top;\n",
       "    }\n",
       "\n",
       "    .dataframe thead th {\n",
       "        text-align: right;\n",
       "    }\n",
       "</style>\n",
       "<table border=\"1\" class=\"dataframe\">\n",
       "  <thead>\n",
       "    <tr style=\"text-align: right;\">\n",
       "      <th></th>\n",
       "      <th>movie_name</th>\n",
       "      <th>character_name</th>\n",
       "      <th>lines</th>\n",
       "      <th>lines_len</th>\n",
       "    </tr>\n",
       "  </thead>\n",
       "  <tbody>\n",
       "    <tr>\n",
       "      <th>0</th>\n",
       "      <td>avengers</td>\n",
       "      <td>TONY</td>\n",
       "      <td>you're good on this end. the rest is up to you...</td>\n",
       "      <td>11492</td>\n",
       "    </tr>\n",
       "    <tr>\n",
       "      <th>1</th>\n",
       "      <td>avengers</td>\n",
       "      <td>NICK FURY</td>\n",
       "      <td>how bad is it? nasa didn't authorize selvig to...</td>\n",
       "      <td>9327</td>\n",
       "    </tr>\n",
       "    <tr>\n",
       "      <th>2</th>\n",
       "      <td>avengers</td>\n",
       "      <td>LOKI</td>\n",
       "      <td>you have heart. loki points the head of his sp...</td>\n",
       "      <td>6742</td>\n",
       "    </tr>\n",
       "    <tr>\n",
       "      <th>4</th>\n",
       "      <td>avengers</td>\n",
       "      <td>BANNER</td>\n",
       "      <td>calm down. what's wrong? is he like them? the ...</td>\n",
       "      <td>5276</td>\n",
       "    </tr>\n",
       "    <tr>\n",
       "      <th>5</th>\n",
       "      <td>avengers</td>\n",
       "      <td>THOR</td>\n",
       "      <td>where is the tesseract? do i look to be in a g...</td>\n",
       "      <td>5084</td>\n",
       "    </tr>\n",
       "  </tbody>\n",
       "</table>\n",
       "</div>"
      ],
      "text/plain": [
       "  movie_name character_name  \\\n",
       "0   avengers           TONY   \n",
       "1   avengers      NICK FURY   \n",
       "2   avengers           LOKI   \n",
       "4   avengers         BANNER   \n",
       "5   avengers           THOR   \n",
       "\n",
       "                                               lines  lines_len  \n",
       "0  you're good on this end. the rest is up to you...      11492  \n",
       "1  how bad is it? nasa didn't authorize selvig to...       9327  \n",
       "2  you have heart. loki points the head of his sp...       6742  \n",
       "4  calm down. what's wrong? is he like them? the ...       5276  \n",
       "5  where is the tesseract? do i look to be in a g...       5084  "
      ]
     },
     "execution_count": 3,
     "metadata": {},
     "output_type": "execute_result"
    }
   ],
   "source": [
    "movies_df = movies_to_df('moviescripts/')\n",
    "movies_df.head()"
   ]
  },
  {
   "attachments": {},
   "cell_type": "markdown",
   "metadata": {},
   "source": [
    "Now, just out of curiosity, let's look at the top speaker of each movie. "
   ]
  },
  {
   "cell_type": "code",
   "execution_count": 4,
   "metadata": {},
   "outputs": [
    {
     "data": {
      "text/html": [
       "<div>\n",
       "<style scoped>\n",
       "    .dataframe tbody tr th:only-of-type {\n",
       "        vertical-align: middle;\n",
       "    }\n",
       "\n",
       "    .dataframe tbody tr th {\n",
       "        vertical-align: top;\n",
       "    }\n",
       "\n",
       "    .dataframe thead th {\n",
       "        text-align: right;\n",
       "    }\n",
       "</style>\n",
       "<table border=\"1\" class=\"dataframe\">\n",
       "  <thead>\n",
       "    <tr style=\"text-align: right;\">\n",
       "      <th></th>\n",
       "      <th>movie_name</th>\n",
       "      <th>character_name</th>\n",
       "      <th>lines</th>\n",
       "      <th>lines_len</th>\n",
       "    </tr>\n",
       "  </thead>\n",
       "  <tbody>\n",
       "    <tr>\n",
       "      <th>0</th>\n",
       "      <td>avengers</td>\n",
       "      <td>TONY</td>\n",
       "      <td>you're good on this end. the rest is up to you...</td>\n",
       "      <td>11492</td>\n",
       "    </tr>\n",
       "    <tr>\n",
       "      <th>0</th>\n",
       "      <td>dumb_and_dumber</td>\n",
       "      <td>LLOYD</td>\n",
       "      <td>excuse me, can you tell me how to get to the m...</td>\n",
       "      <td>22037</td>\n",
       "    </tr>\n",
       "    <tr>\n",
       "      <th>0</th>\n",
       "      <td>lord_of_rings_return</td>\n",
       "      <td>ANGLE ON</td>\n",
       "      <td>: smeagol and his cousin, deagol, sit in a sma...</td>\n",
       "      <td>26217</td>\n",
       "    </tr>\n",
       "    <tr>\n",
       "      <th>0</th>\n",
       "      <td>american-psycho</td>\n",
       "      <td>BATEMAN</td>\n",
       "      <td>(v.o.) we're sitting in pastels, this nouvelle...</td>\n",
       "      <td>33267</td>\n",
       "    </tr>\n",
       "    <tr>\n",
       "      <th>3</th>\n",
       "      <td>indiana_jones_raiders</td>\n",
       "      <td>INDY</td>\n",
       "      <td>no. we don't need them. we'll leave them. once...</td>\n",
       "      <td>9810</td>\n",
       "    </tr>\n",
       "    <tr>\n",
       "      <th>0</th>\n",
       "      <td>finding_nemo</td>\n",
       "      <td>MARLIN</td>\n",
       "      <td>wow. wow. wow. so, coral, when you said you wa...</td>\n",
       "      <td>17775</td>\n",
       "    </tr>\n",
       "    <tr>\n",
       "      <th>1</th>\n",
       "      <td>twilight</td>\n",
       "      <td>BELLA</td>\n",
       "      <td>(v.o.) i'd never given much thought to how i w...</td>\n",
       "      <td>11439</td>\n",
       "    </tr>\n",
       "    <tr>\n",
       "      <th>0</th>\n",
       "      <td>megamind</td>\n",
       "      <td>MASTER MIND</td>\n",
       "      <td>the real einstein once said, \"god does not pla...</td>\n",
       "      <td>16424</td>\n",
       "    </tr>\n",
       "    <tr>\n",
       "      <th>0</th>\n",
       "      <td>harold_kumar_white_castle</td>\n",
       "      <td>KUMAR</td>\n",
       "      <td>mononucleosis or mono is an infection caused b...</td>\n",
       "      <td>37536</td>\n",
       "    </tr>\n",
       "    <tr>\n",
       "      <th>4</th>\n",
       "      <td>it</td>\n",
       "      <td>WILL</td>\n",
       "      <td>don't be such a wuss. i'd come if i weren't dy...</td>\n",
       "      <td>7895</td>\n",
       "    </tr>\n",
       "  </tbody>\n",
       "</table>\n",
       "</div>"
      ],
      "text/plain": [
       "                  movie_name character_name  \\\n",
       "0                   avengers           TONY   \n",
       "0            dumb_and_dumber          LLOYD   \n",
       "0       lord_of_rings_return       ANGLE ON   \n",
       "0            american-psycho        BATEMAN   \n",
       "3      indiana_jones_raiders           INDY   \n",
       "0               finding_nemo         MARLIN   \n",
       "1                   twilight          BELLA   \n",
       "0                   megamind    MASTER MIND   \n",
       "0  harold_kumar_white_castle          KUMAR   \n",
       "4                         it           WILL   \n",
       "\n",
       "                                               lines  lines_len  \n",
       "0  you're good on this end. the rest is up to you...      11492  \n",
       "0  excuse me, can you tell me how to get to the m...      22037  \n",
       "0  : smeagol and his cousin, deagol, sit in a sma...      26217  \n",
       "0  (v.o.) we're sitting in pastels, this nouvelle...      33267  \n",
       "3  no. we don't need them. we'll leave them. once...       9810  \n",
       "0  wow. wow. wow. so, coral, when you said you wa...      17775  \n",
       "1  (v.o.) i'd never given much thought to how i w...      11439  \n",
       "0  the real einstein once said, \"god does not pla...      16424  \n",
       "0  mononucleosis or mono is an infection caused b...      37536  \n",
       "4  don't be such a wuss. i'd come if i weren't dy...       7895  "
      ]
     },
     "execution_count": 4,
     "metadata": {},
     "output_type": "execute_result"
    }
   ],
   "source": [
    "idx = movies_df.groupby('movie_name')['lines_len'].transform(max) == movies_df['lines_len']\n",
    "movies_df[idx] # gets largest line length by movie"
   ]
  },
  {
   "cell_type": "code",
   "execution_count": 5,
   "metadata": {},
   "outputs": [],
   "source": [
    "movies_df = movies_df.drop(columns=['lines_len']\n",
    "                           )[((movies_df['character_name'] != 'ANGLE ON') &\n",
    "                              (movies_df['character_name'] != 'CLOSE ON'))]\n",
    "\n",
    "movies_df.to_csv('moviedata.csv')"
   ]
  }
 ],
 "metadata": {
  "kernelspec": {
   "display_name": "Python 3",
   "language": "python",
   "name": "python3"
  },
  "language_info": {
   "codemirror_mode": {
    "name": "ipython",
    "version": 3
   },
   "file_extension": ".py",
   "mimetype": "text/x-python",
   "name": "python",
   "nbconvert_exporter": "python",
   "pygments_lexer": "ipython3",
   "version": "3.9.0"
  },
  "orig_nbformat": 4
 },
 "nbformat": 4,
 "nbformat_minor": 2
}
